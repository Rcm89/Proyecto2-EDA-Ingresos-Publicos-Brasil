{
 "cells": [
  {
   "cell_type": "code",
   "execution_count": null,
   "metadata": {},
   "outputs": [],
   "source": []
  },
  {
   "cell_type": "markdown",
   "metadata": {},
   "source": [
    "-Carpeta de datos\n",
    "\n",
    "-Carpeta de notebooks\n",
    "\n",
    "-Read me\n",
    "\n",
    "-Carpeta de src: from src import funcion\n"
   ]
  },
  {
   "cell_type": "markdown",
   "metadata": {},
   "source": [
    "-Primeras ideas: \n",
    "    -Apilar los archivos pero no vamos a tener (posible columna el id)\n",
    "    -Crear función para renombrar columnas\n",
    "    -Usar fillna para rellenar nulos (porque por ejemplo la columna año tiene valores nulos)\n",
    "    -Hacer EDA con funciones y visualizaciones vistas en clase\n",
    "    -Hacer analisis personalizado"
   ]
  },
  {
   "cell_type": "code",
   "execution_count": null,
   "metadata": {},
   "outputs": [],
   "source": [
    "#Para ver todas las columnas de un archivo\n",
    "pd.set_option('display.max_columns', None)"
   ]
  },
  {
   "cell_type": "code",
   "execution_count": null,
   "metadata": {},
   "outputs": [],
   "source": []
  }
 ],
 "metadata": {
  "kernelspec": {
   "display_name": "base",
   "language": "python",
   "name": "python3"
  },
  "language_info": {
   "codemirror_mode": {
    "name": "ipython",
    "version": 3
   },
   "file_extension": ".py",
   "mimetype": "text/x-python",
   "name": "python",
   "nbconvert_exporter": "python",
   "pygments_lexer": "ipython3",
   "version": "3.12.4"
  }
 },
 "nbformat": 4,
 "nbformat_minor": 2
}
