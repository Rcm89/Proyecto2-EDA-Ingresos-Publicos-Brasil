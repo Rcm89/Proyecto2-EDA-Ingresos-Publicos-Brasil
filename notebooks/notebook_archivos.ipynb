{
 "cells": [
  {
   "cell_type": "code",
   "execution_count": 604,
   "metadata": {},
   "outputs": [],
   "source": [
    "import pandas as pd\n",
    "import numpy as np"
   ]
  },
  {
   "cell_type": "code",
   "execution_count": null,
   "metadata": {},
   "outputs": [],
   "source": [
    "df1_2013 = pd.read_csv(\"C:/Users/Administrador/Desktop/RCM/Proyecto2-EDA-Ingresos-Publicos-Brasil/datos/datos-2013.csv\", sep=';')\n",
    "df1_2013.head(3)\n",
    "#C:\\Users\\Administrador\\Desktop\\Proyecto2-EDA-Ingresos-Publicos-Brasil\n"
   ]
  },
  {
   "cell_type": "code",
   "execution_count": null,
   "metadata": {},
   "outputs": [],
   "source": [
    "df1_2013.describe()"
   ]
  },
  {
   "cell_type": "code",
   "execution_count": null,
   "metadata": {},
   "outputs": [],
   "source": [
    "df1_2013.shape"
   ]
  },
  {
   "cell_type": "code",
   "execution_count": null,
   "metadata": {},
   "outputs": [],
   "source": [
    "df1_2013.info()"
   ]
  },
  {
   "cell_type": "code",
   "execution_count": null,
   "metadata": {},
   "outputs": [],
   "source": [
    "df1_2014 = pd.read_csv(\"C:/Users/Administrador/Desktop/RCM/Proyecto2-EDA-Ingresos-Publicos-Brasil/datos/datos-2014.csv\", sep=';')\n",
    "df1_2014.head(3)"
   ]
  },
  {
   "cell_type": "code",
   "execution_count": null,
   "metadata": {},
   "outputs": [],
   "source": [
    "df1_2014.describe()"
   ]
  },
  {
   "cell_type": "code",
   "execution_count": null,
   "metadata": {},
   "outputs": [],
   "source": [
    "df1_2014.shape"
   ]
  },
  {
   "cell_type": "code",
   "execution_count": null,
   "metadata": {},
   "outputs": [],
   "source": [
    "df1_2014.info()"
   ]
  },
  {
   "cell_type": "code",
   "execution_count": null,
   "metadata": {},
   "outputs": [],
   "source": [
    "df1_2015 = pd.read_csv(\"C:/Users/Administrador/Desktop/RCM/Proyecto2-EDA-Ingresos-Publicos-Brasil/datos/datos-2015.csv\", sep=';')\n",
    "df1_2015.head(3)"
   ]
  },
  {
   "cell_type": "code",
   "execution_count": null,
   "metadata": {},
   "outputs": [],
   "source": [
    "df1_2015.describe()"
   ]
  },
  {
   "cell_type": "code",
   "execution_count": null,
   "metadata": {},
   "outputs": [],
   "source": [
    "df1_2015.shape"
   ]
  },
  {
   "cell_type": "code",
   "execution_count": null,
   "metadata": {},
   "outputs": [],
   "source": [
    "df1_2015.info()"
   ]
  },
  {
   "cell_type": "code",
   "execution_count": null,
   "metadata": {},
   "outputs": [],
   "source": [
    "df1_2016 = pd.read_csv(\"C:/Users/Administrador/Desktop/RCM/Proyecto2-EDA-Ingresos-Publicos-Brasil/datos/datos-2016.csv\", sep=';')\n",
    "df1_2016.head(3)"
   ]
  },
  {
   "cell_type": "code",
   "execution_count": null,
   "metadata": {},
   "outputs": [],
   "source": [
    "df1_2016.describe()"
   ]
  },
  {
   "cell_type": "code",
   "execution_count": null,
   "metadata": {},
   "outputs": [],
   "source": [
    "df1_2016.shape"
   ]
  },
  {
   "cell_type": "code",
   "execution_count": null,
   "metadata": {},
   "outputs": [],
   "source": [
    "df1_2016.info()"
   ]
  },
  {
   "cell_type": "code",
   "execution_count": null,
   "metadata": {},
   "outputs": [],
   "source": [
    "df1_2017 = pd.read_csv(\"C:/Users/Administrador/Desktop/RCM/Proyecto2-EDA-Ingresos-Publicos-Brasil/datos/datos-2017.csv\", sep=';')\n",
    "df1_2017.head(3)"
   ]
  },
  {
   "cell_type": "code",
   "execution_count": null,
   "metadata": {},
   "outputs": [],
   "source": [
    "df1_2017.describe()"
   ]
  },
  {
   "cell_type": "code",
   "execution_count": null,
   "metadata": {},
   "outputs": [],
   "source": [
    "df1_2017.shape"
   ]
  },
  {
   "cell_type": "code",
   "execution_count": null,
   "metadata": {},
   "outputs": [],
   "source": [
    "df1_2017.info()"
   ]
  },
  {
   "cell_type": "code",
   "execution_count": null,
   "metadata": {},
   "outputs": [],
   "source": [
    "df1_2018 = pd.read_csv(\"C:/Users/Administrador/Desktop/RCM/Proyecto2-EDA-Ingresos-Publicos-Brasil/datos/datos-2018.csv\", sep=';')\n",
    "df1_2018.head(3)"
   ]
  },
  {
   "cell_type": "code",
   "execution_count": null,
   "metadata": {},
   "outputs": [],
   "source": [
    "df1_2018.describe()"
   ]
  },
  {
   "cell_type": "code",
   "execution_count": null,
   "metadata": {},
   "outputs": [],
   "source": [
    "df1_2018.shape"
   ]
  },
  {
   "cell_type": "code",
   "execution_count": null,
   "metadata": {},
   "outputs": [],
   "source": [
    "df1_2018.info()"
   ]
  },
  {
   "cell_type": "code",
   "execution_count": null,
   "metadata": {},
   "outputs": [],
   "source": [
    "df1_2019 = pd.read_csv(\"C:/Users/Administrador/Desktop/RCM/Proyecto2-EDA-Ingresos-Publicos-Brasil/datos/datos-2019.csv\", sep=';')\n",
    "df1_2019.head(3)"
   ]
  },
  {
   "cell_type": "code",
   "execution_count": null,
   "metadata": {},
   "outputs": [],
   "source": [
    "df1_2019.describe()"
   ]
  },
  {
   "cell_type": "code",
   "execution_count": null,
   "metadata": {},
   "outputs": [],
   "source": [
    "df1_2019.shape"
   ]
  },
  {
   "cell_type": "code",
   "execution_count": null,
   "metadata": {},
   "outputs": [],
   "source": [
    "df1_2019.info()"
   ]
  },
  {
   "cell_type": "code",
   "execution_count": null,
   "metadata": {},
   "outputs": [],
   "source": [
    "df1_2020 = pd.read_csv(\"C:/Users/Administrador/Desktop/RCM/Proyecto2-EDA-Ingresos-Publicos-Brasil/datos/datos-2020.csv\", sep=';')\n",
    "df1_2020.head(3)"
   ]
  },
  {
   "cell_type": "code",
   "execution_count": null,
   "metadata": {},
   "outputs": [],
   "source": [
    "df1_2020.describe()"
   ]
  },
  {
   "cell_type": "code",
   "execution_count": null,
   "metadata": {},
   "outputs": [],
   "source": [
    "df1_2020.shape"
   ]
  },
  {
   "cell_type": "code",
   "execution_count": null,
   "metadata": {},
   "outputs": [],
   "source": [
    "df1_2020.info()"
   ]
  },
  {
   "cell_type": "code",
   "execution_count": null,
   "metadata": {},
   "outputs": [],
   "source": [
    "df1_2021 = pd.read_csv(\"C:/Users/Administrador/Desktop/RCM/Proyecto2-EDA-Ingresos-Publicos-Brasil/datos/datos-2021.csv\", sep=';')\n",
    "df1_2021.head(3)"
   ]
  },
  {
   "cell_type": "code",
   "execution_count": null,
   "metadata": {},
   "outputs": [],
   "source": [
    "df1_2021.describe()"
   ]
  },
  {
   "cell_type": "code",
   "execution_count": null,
   "metadata": {},
   "outputs": [],
   "source": [
    "df1_2021.shape"
   ]
  },
  {
   "cell_type": "code",
   "execution_count": null,
   "metadata": {},
   "outputs": [],
   "source": [
    "df1_2021.info()"
   ]
  },
  {
   "cell_type": "code",
   "execution_count": 641,
   "metadata": {},
   "outputs": [],
   "source": [
    "#df1_diccionario = pd.read_csv(\"C:/Users/Administrador/Desktop/RCM/Proyecto2-EDA-Ingresos-Publicos-Brasil/datos/diccionario_datos.csv\")\n",
    "#df1_diccionario.head(3)"
   ]
  },
  {
   "cell_type": "code",
   "execution_count": 642,
   "metadata": {},
   "outputs": [],
   "source": [
    "lista_df = [df1_2013, df1_2014, df1_2015, df1_2016, df1_2017, df1_2018, df1_2019, df1_2020, df1_2021]"
   ]
  },
  {
   "cell_type": "markdown",
   "metadata": {},
   "source": [
    "Hemos visto que hay una gran cantidad de nulos en, las columnas de lso data frames, vamos a rellenar la del \"ANO EXERCÍCIO\" con el año correspondiente, y haremas cambiamos el tipo de datos de esa columna a enteros.\n"
   ]
  },
  {
   "cell_type": "code",
   "execution_count": null,
   "metadata": {},
   "outputs": [],
   "source": [
    "def llenar_anios(lista_df, anios):\n",
    "    \"\"\"\n",
    "    Llena los valores faltantes en la columna 'ANO EXERCÍCIO' de cada DataFrame en la lista con el año correspondiente\n",
    "    y convierte la columna a tipo entero.\n",
    "\n",
    "    Args:\n",
    "        lista_df (list): Lista de DataFrames.\n",
    "        anios (list): Lista de años que se asignarán en caso de valores nulos.\n",
    "    \"\"\"\n",
    "    for i, df in enumerate(lista_df):\n",
    "        df['ANO EXERCÍCIO'].fillna(anios[i], inplace=True)\n",
    "        df['ANO EXERCÍCIO'] = df['ANO EXERCÍCIO'].astype(int)\n",
    "\n",
    "anios = [int(i) for i in range(2013, 2022)]\n",
    "llenar_anios(lista_df, anios)\n"
   ]
  },
  {
   "cell_type": "code",
   "execution_count": null,
   "metadata": {},
   "outputs": [],
   "source": []
  },
  {
   "cell_type": "code",
   "execution_count": null,
   "metadata": {},
   "outputs": [],
   "source": [
    "# Concatenamos los dataFrames\n",
    "dfs_concatenados = pd.concat(lista_df)\n",
    "\n",
    "print(dfs_concatenados.shape)\n",
    "dfs_concatenados.head()"
   ]
  },
  {
   "cell_type": "code",
   "execution_count": null,
   "metadata": {},
   "outputs": [],
   "source": [
    "# Diccionario con las traducciones de los nombres de las columnas\n",
    "columnas_traducidas = {\n",
    "    'CÓDIGO ÓRGÃO SUPERIOR': 'CÓDIGO ÓRGANO SUPERIOR',\n",
    "    'NOME ÓRGÃO SUPERIOR': 'NOMBRE ÓRGANO SUPERIOR',\n",
    "    'CÓDIGO ÓRGÃO': 'CÓDIGO ÓRGANO',\n",
    "    'NOME ÓRGÃO': 'NOMBRE ÓRGANO',\n",
    "    'CÓDIGO UNIDADE GESTORA': 'CÓDIGO UNIDAD GESTORA',\n",
    "    'NOME UNIDADE GESTORA': 'NOMBRE UNIDAD GESTORA',\n",
    "    'CATEGORIA ECONÔMICA': 'CATEGORÍA ECONÓMICA',\n",
    "    'ORIGEM RECEITA': 'ORIGEN DE INGRESO',\n",
    "    'ESPÉCIE RECEITA': 'TIPO DE INGRESO',\n",
    "    'DETALHAMENTO': 'DETALLE',\n",
    "    'VALOR PREVISTO ATUALIZADO': 'VALOR PREVISTO ACTUALIZADO',\n",
    "    'VALOR LANÇADO': 'VALOR LANZADO',\n",
    "    'VALOR REALIZADO': 'VALOR REALIZADO',\n",
    "    'PERCENTUAL REALIZADO': 'PORCENTAJE REALIZADO',\n",
    "    'DATA LANÇAMENTO': 'FECHA DE LANZAMIENTO',\n",
    "    'ANO EXERCÍCIO': 'AÑO EJERCICIO'\n",
    "}\n",
    "\n",
    "# Aplicar la traducción a los nombres de las columnas\n",
    "dfs_concatenados.rename(columns=columnas_traducidas, inplace=True)\n",
    "dfs_concatenados.head()"
   ]
  },
  {
   "cell_type": "code",
   "execution_count": null,
   "metadata": {},
   "outputs": [],
   "source": [
    "dfs_concatenados.info()"
   ]
  },
  {
   "cell_type": "code",
   "execution_count": null,
   "metadata": {},
   "outputs": [],
   "source": [
    "dfs_concatenados.describe()"
   ]
  },
  {
   "cell_type": "code",
   "execution_count": null,
   "metadata": {},
   "outputs": [],
   "source": [
    "#Contemos el número de filas duplicadas\n",
    "dfs_concatenados.duplicated().value_counts()"
   ]
  },
  {
   "cell_type": "code",
   "execution_count": 649,
   "metadata": {},
   "outputs": [],
   "source": [
    "#el codigo anterior en funcion y con un apply\n",
    "\n",
    "def convertir_a_float(columna):\n",
    "    \"\"\"\n",
    "    Reemplaza las comas por puntos decimales en los valores de una columna y convierte la columna al tipo float.\n",
    "\n",
    "    Parámetros:\n",
    "    columna : pandas.Series\n",
    "        La columna del DataFrame en la que se desea realizar la conversión.\n",
    "\n",
    "    Returns:\n",
    "    pandas.Series\n",
    "        La columna con los valores convertidos a tipo float.\n",
    "    \"\"\"\n",
    "    return columna.replace(',', '.', regex=True).astype(float)\n",
    "\n",
    "columnas_a_convertir = dfs_concatenados.columns[[10, 11, 12, 13]]\n",
    "\n",
    "dfs_concatenados[columnas_a_convertir] = dfs_concatenados[columnas_a_convertir].apply(convertir_a_float)\n",
    "\n",
    "\n"
   ]
  },
  {
   "cell_type": "code",
   "execution_count": null,
   "metadata": {},
   "outputs": [],
   "source": [
    "dfs_concatenados"
   ]
  },
  {
   "cell_type": "code",
   "execution_count": null,
   "metadata": {},
   "outputs": [],
   "source": [
    "dfs_concatenados.info()"
   ]
  }
 ],
 "metadata": {
  "kernelspec": {
   "display_name": "Python 3",
   "language": "python",
   "name": "python3"
  },
  "language_info": {
   "codemirror_mode": {
    "name": "ipython",
    "version": 3
   },
   "file_extension": ".py",
   "mimetype": "text/x-python",
   "name": "python",
   "nbconvert_exporter": "python",
   "pygments_lexer": "ipython3",
   "version": "3.12.6"
  }
 },
 "nbformat": 4,
 "nbformat_minor": 2
}
